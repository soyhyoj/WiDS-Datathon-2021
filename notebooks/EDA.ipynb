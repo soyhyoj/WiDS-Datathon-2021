{
 "cells": [
  {
   "cell_type": "markdown",
   "metadata": {},
   "source": [
    "# EDA \n",
    "\n",
    "* Data from [WiDS Datathon 2021](https://www.kaggle.com/c/widsdatathon2021)\n",
    "\n",
    "* Objective: To determine whether a patient admitted to an Intensive Care Unit (ICU) has been diagonsed with a particular type of diabetes, Diabetes Mellitus, using data from the first 24 hours of intensive care."
   ]
  },
  {
   "cell_type": "code",
   "execution_count": 1,
   "metadata": {},
   "outputs": [],
   "source": [
    "# Import libraries\n",
    "import pandas as pd\n",
    "import numpy as np\n",
    "import matplotlib.pyplot as plt\n",
    "import matplotlib.gridspec as grd # grid for plot alignment\n",
    "import seaborn as sns\n",
    "sns.set_palette('Set3')\n",
    "sns.set_context(rc={'axes.labelsize':18,\n",
    "                    'axes.titlesize':18,\n",
    "                    'font.size':15,\n",
    "                    'legend.fontsize':15,\n",
    "                    'lines.linewidth':2.2})\n",
    "import warnings\n",
    "warnings.filterwarnings(\"ignore\") # ignore plot warning messages\n",
    "from ipywidgets import interact   # interactive plot\n",
    "from scipy import stats # unpaired t-test\n",
    "\n",
    "# Modeling\n",
    "from sklearn.impute import SimpleImputer\n",
    "from sklearn.preprocessing import StandardScaler\n",
    "from sklearn.model_selection import train_test_split\n",
    "from sklearn.linear_model import LogisticRegression\n",
    "from sklearn.metrics import classification_report, plot_confusion_matrix, plot_precision_recall_curve, recall_score"
   ]
  },
  {
   "cell_type": "code",
   "execution_count": 2,
   "metadata": {},
   "outputs": [
    {
     "name": "stdout",
     "output_type": "stream",
     "text": [
      "(130157, 180)\n",
      "(10234, 179)\n"
     ]
    },
    {
     "data": {
      "text/html": [
       "<div>\n",
       "<style scoped>\n",
       "    .dataframe tbody tr th:only-of-type {\n",
       "        vertical-align: middle;\n",
       "    }\n",
       "\n",
       "    .dataframe tbody tr th {\n",
       "        vertical-align: top;\n",
       "    }\n",
       "\n",
       "    .dataframe thead th {\n",
       "        text-align: right;\n",
       "    }\n",
       "</style>\n",
       "<table border=\"1\" class=\"dataframe\">\n",
       "  <thead>\n",
       "    <tr style=\"text-align: right;\">\n",
       "      <th></th>\n",
       "      <th>encounter_id</th>\n",
       "      <th>hospital_id</th>\n",
       "      <th>age</th>\n",
       "      <th>bmi</th>\n",
       "      <th>elective_surgery</th>\n",
       "      <th>ethnicity</th>\n",
       "      <th>gender</th>\n",
       "      <th>height</th>\n",
       "      <th>hospital_admit_source</th>\n",
       "      <th>icu_admit_source</th>\n",
       "      <th>...</th>\n",
       "      <th>h1_pao2fio2ratio_max</th>\n",
       "      <th>h1_pao2fio2ratio_min</th>\n",
       "      <th>aids</th>\n",
       "      <th>cirrhosis</th>\n",
       "      <th>hepatic_failure</th>\n",
       "      <th>immunosuppression</th>\n",
       "      <th>leukemia</th>\n",
       "      <th>lymphoma</th>\n",
       "      <th>solid_tumor_with_metastasis</th>\n",
       "      <th>diabetes_mellitus</th>\n",
       "    </tr>\n",
       "  </thead>\n",
       "  <tbody>\n",
       "    <tr>\n",
       "      <th>1</th>\n",
       "      <td>214826</td>\n",
       "      <td>118</td>\n",
       "      <td>68.0</td>\n",
       "      <td>22.732803</td>\n",
       "      <td>0</td>\n",
       "      <td>Caucasian</td>\n",
       "      <td>M</td>\n",
       "      <td>180.3</td>\n",
       "      <td>Floor</td>\n",
       "      <td>Floor</td>\n",
       "      <td>...</td>\n",
       "      <td>NaN</td>\n",
       "      <td>NaN</td>\n",
       "      <td>0</td>\n",
       "      <td>0</td>\n",
       "      <td>0</td>\n",
       "      <td>0</td>\n",
       "      <td>0</td>\n",
       "      <td>0</td>\n",
       "      <td>0</td>\n",
       "      <td>1</td>\n",
       "    </tr>\n",
       "    <tr>\n",
       "      <th>2</th>\n",
       "      <td>246060</td>\n",
       "      <td>81</td>\n",
       "      <td>77.0</td>\n",
       "      <td>27.421875</td>\n",
       "      <td>0</td>\n",
       "      <td>Caucasian</td>\n",
       "      <td>F</td>\n",
       "      <td>160.0</td>\n",
       "      <td>Floor</td>\n",
       "      <td>Floor</td>\n",
       "      <td>...</td>\n",
       "      <td>51.0</td>\n",
       "      <td>51.0</td>\n",
       "      <td>0</td>\n",
       "      <td>0</td>\n",
       "      <td>0</td>\n",
       "      <td>0</td>\n",
       "      <td>0</td>\n",
       "      <td>0</td>\n",
       "      <td>0</td>\n",
       "      <td>1</td>\n",
       "    </tr>\n",
       "    <tr>\n",
       "      <th>3</th>\n",
       "      <td>276985</td>\n",
       "      <td>118</td>\n",
       "      <td>25.0</td>\n",
       "      <td>31.952749</td>\n",
       "      <td>0</td>\n",
       "      <td>Caucasian</td>\n",
       "      <td>F</td>\n",
       "      <td>172.7</td>\n",
       "      <td>Emergency Department</td>\n",
       "      <td>Accident &amp; Emergency</td>\n",
       "      <td>...</td>\n",
       "      <td>NaN</td>\n",
       "      <td>NaN</td>\n",
       "      <td>0</td>\n",
       "      <td>0</td>\n",
       "      <td>0</td>\n",
       "      <td>0</td>\n",
       "      <td>0</td>\n",
       "      <td>0</td>\n",
       "      <td>0</td>\n",
       "      <td>0</td>\n",
       "    </tr>\n",
       "    <tr>\n",
       "      <th>4</th>\n",
       "      <td>262220</td>\n",
       "      <td>118</td>\n",
       "      <td>81.0</td>\n",
       "      <td>22.635548</td>\n",
       "      <td>1</td>\n",
       "      <td>Caucasian</td>\n",
       "      <td>F</td>\n",
       "      <td>165.1</td>\n",
       "      <td>Operating Room</td>\n",
       "      <td>Operating Room / Recovery</td>\n",
       "      <td>...</td>\n",
       "      <td>337.0</td>\n",
       "      <td>337.0</td>\n",
       "      <td>0</td>\n",
       "      <td>0</td>\n",
       "      <td>0</td>\n",
       "      <td>0</td>\n",
       "      <td>0</td>\n",
       "      <td>0</td>\n",
       "      <td>0</td>\n",
       "      <td>0</td>\n",
       "    </tr>\n",
       "    <tr>\n",
       "      <th>5</th>\n",
       "      <td>201746</td>\n",
       "      <td>33</td>\n",
       "      <td>19.0</td>\n",
       "      <td>NaN</td>\n",
       "      <td>0</td>\n",
       "      <td>Caucasian</td>\n",
       "      <td>M</td>\n",
       "      <td>188.0</td>\n",
       "      <td>NaN</td>\n",
       "      <td>Accident &amp; Emergency</td>\n",
       "      <td>...</td>\n",
       "      <td>NaN</td>\n",
       "      <td>NaN</td>\n",
       "      <td>0</td>\n",
       "      <td>0</td>\n",
       "      <td>0</td>\n",
       "      <td>0</td>\n",
       "      <td>0</td>\n",
       "      <td>0</td>\n",
       "      <td>0</td>\n",
       "      <td>0</td>\n",
       "    </tr>\n",
       "  </tbody>\n",
       "</table>\n",
       "<p>5 rows × 180 columns</p>\n",
       "</div>"
      ],
      "text/plain": [
       "   encounter_id  hospital_id   age        bmi  elective_surgery  ethnicity  \\\n",
       "1        214826          118  68.0  22.732803                 0  Caucasian   \n",
       "2        246060           81  77.0  27.421875                 0  Caucasian   \n",
       "3        276985          118  25.0  31.952749                 0  Caucasian   \n",
       "4        262220          118  81.0  22.635548                 1  Caucasian   \n",
       "5        201746           33  19.0        NaN                 0  Caucasian   \n",
       "\n",
       "  gender  height hospital_admit_source           icu_admit_source  ...  \\\n",
       "1      M   180.3                 Floor                      Floor  ...   \n",
       "2      F   160.0                 Floor                      Floor  ...   \n",
       "3      F   172.7  Emergency Department       Accident & Emergency  ...   \n",
       "4      F   165.1        Operating Room  Operating Room / Recovery  ...   \n",
       "5      M   188.0                   NaN       Accident & Emergency  ...   \n",
       "\n",
       "   h1_pao2fio2ratio_max h1_pao2fio2ratio_min aids  cirrhosis  hepatic_failure  \\\n",
       "1                   NaN                  NaN    0          0                0   \n",
       "2                  51.0                 51.0    0          0                0   \n",
       "3                   NaN                  NaN    0          0                0   \n",
       "4                 337.0                337.0    0          0                0   \n",
       "5                   NaN                  NaN    0          0                0   \n",
       "\n",
       "   immunosuppression  leukemia  lymphoma  solid_tumor_with_metastasis  \\\n",
       "1                  0         0         0                            0   \n",
       "2                  0         0         0                            0   \n",
       "3                  0         0         0                            0   \n",
       "4                  0         0         0                            0   \n",
       "5                  0         0         0                            0   \n",
       "\n",
       "   diabetes_mellitus  \n",
       "1                  1  \n",
       "2                  1  \n",
       "3                  0  \n",
       "4                  0  \n",
       "5                  0  \n",
       "\n",
       "[5 rows x 180 columns]"
      ]
     },
     "execution_count": 2,
     "metadata": {},
     "output_type": "execute_result"
    }
   ],
   "source": [
    "# Import training data\n",
    "train = pd.read_csv(\"../data/TrainingWiDS2021.csv\", index_col=0)\n",
    "test = pd.read_csv(\"../data/UnlabeledWiDS2021.csv\", index_col=0)\n",
    "\n",
    "print(train.shape)\n",
    "print(test.shape)\n",
    "\n",
    "train.head()"
   ]
  },
  {
   "cell_type": "markdown",
   "metadata": {},
   "source": [
    "### Which is the target (label) column to predict?"
   ]
  },
  {
   "cell_type": "code",
   "execution_count": 3,
   "metadata": {},
   "outputs": [
    {
     "data": {
      "text/plain": [
       "['diabetes_mellitus']"
      ]
     },
     "execution_count": 3,
     "metadata": {},
     "output_type": "execute_result"
    }
   ],
   "source": [
    "target = [col for col in train.columns if col not in test.columns]\n",
    "target"
   ]
  },
  {
   "cell_type": "code",
   "execution_count": 4,
   "metadata": {},
   "outputs": [
    {
     "data": {
      "text/plain": [
       "<AxesSubplot:xlabel='diabetes_mellitus', ylabel='count'>"
      ]
     },
     "execution_count": 4,
     "metadata": {},
     "output_type": "execute_result"
    },
    {
     "data": {
      "image/png": "[encoded data removed]",
      "text/plain": [
       "<Figure size 432x288 with 1 Axes>"
      ]
     },
     "metadata": {
      "needs_background": "light"
     },
     "output_type": "display_data"
    }
   ],
   "source": [
    "# Count targets\n",
    "sns.countplot(train['diabetes_mellitus'])"
   ]
  },
  {
   "cell_type": "markdown",
   "metadata": {},
   "source": [
    "* Unbalanced binary target distribution"
   ]
  },
  {
   "cell_type": "markdown",
   "metadata": {},
   "source": [
    "## 1. Training data quality check"
   ]
  },
  {
   "cell_type": "code",
   "execution_count": 5,
   "metadata": {},
   "outputs": [
    {
     "data": {
      "text/plain": [
       "age                     0.038323\n",
       "bmi                     0.034497\n",
       "ethnicity               0.012193\n",
       "gender                  0.000507\n",
       "height                  0.015958\n",
       "                          ...   \n",
       "h1_arterial_ph_min      0.828607\n",
       "h1_arterial_po2_max     0.825503\n",
       "h1_arterial_po2_min     0.825503\n",
       "h1_pao2fio2ratio_max    0.871232\n",
       "h1_pao2fio2ratio_min    0.871232\n",
       "Length: 160, dtype: float64"
      ]
     },
     "execution_count": 5,
     "metadata": {},
     "output_type": "execute_result"
    }
   ],
   "source": [
    "# Missing rows (just check, don't do anything yet)\n",
    "prop_isnull = train.isnull().mean()\n",
    "prop_isnull = prop_isnull[prop_isnull > 0]\n",
    "prop_isnull"
   ]
  },
  {
   "cell_type": "markdown",
   "metadata": {},
   "source": [
    "* 160 out of 180 columns have missing information, number of missing records ranging between 3.8 - 87.1%"
   ]
  },
  {
   "cell_type": "code",
   "execution_count": 6,
   "metadata": {},
   "outputs": [
    {
     "data": {
      "text/html": [
       "<div>\n",
       "<style scoped>\n",
       "    .dataframe tbody tr th:only-of-type {\n",
       "        vertical-align: middle;\n",
       "    }\n",
       "\n",
       "    .dataframe tbody tr th {\n",
       "        vertical-align: top;\n",
       "    }\n",
       "\n",
       "    .dataframe thead th {\n",
       "        text-align: right;\n",
       "    }\n",
       "</style>\n",
       "<table border=\"1\" class=\"dataframe\">\n",
       "  <thead>\n",
       "    <tr style=\"text-align: right;\">\n",
       "      <th></th>\n",
       "      <th>encounter_id</th>\n",
       "      <th>hospital_id</th>\n",
       "      <th>age</th>\n",
       "      <th>bmi</th>\n",
       "      <th>elective_surgery</th>\n",
       "      <th>ethnicity</th>\n",
       "      <th>gender</th>\n",
       "      <th>height</th>\n",
       "      <th>hospital_admit_source</th>\n",
       "      <th>icu_admit_source</th>\n",
       "      <th>...</th>\n",
       "      <th>h1_pao2fio2ratio_max</th>\n",
       "      <th>h1_pao2fio2ratio_min</th>\n",
       "      <th>aids</th>\n",
       "      <th>cirrhosis</th>\n",
       "      <th>hepatic_failure</th>\n",
       "      <th>immunosuppression</th>\n",
       "      <th>leukemia</th>\n",
       "      <th>lymphoma</th>\n",
       "      <th>solid_tumor_with_metastasis</th>\n",
       "      <th>diabetes_mellitus</th>\n",
       "    </tr>\n",
       "  </thead>\n",
       "  <tbody>\n",
       "  </tbody>\n",
       "</table>\n",
       "<p>0 rows × 180 columns</p>\n",
       "</div>"
      ],
      "text/plain": [
       "Empty DataFrame\n",
       "Columns: [encounter_id, hospital_id, age, bmi, elective_surgery, ethnicity, gender, height, hospital_admit_source, icu_admit_source, icu_id, icu_stay_type, icu_type, pre_icu_los_days, readmission_status, weight, albumin_apache, apache_2_diagnosis, apache_3j_diagnosis, apache_post_operative, arf_apache, bilirubin_apache, bun_apache, creatinine_apache, fio2_apache, gcs_eyes_apache, gcs_motor_apache, gcs_unable_apache, gcs_verbal_apache, glucose_apache, heart_rate_apache, hematocrit_apache, intubated_apache, map_apache, paco2_apache, paco2_for_ph_apache, pao2_apache, ph_apache, resprate_apache, sodium_apache, temp_apache, urineoutput_apache, ventilated_apache, wbc_apache, d1_diasbp_invasive_max, d1_diasbp_invasive_min, d1_diasbp_max, d1_diasbp_min, d1_diasbp_noninvasive_max, d1_diasbp_noninvasive_min, d1_heartrate_max, d1_heartrate_min, d1_mbp_invasive_max, d1_mbp_invasive_min, d1_mbp_max, d1_mbp_min, d1_mbp_noninvasive_max, d1_mbp_noninvasive_min, d1_resprate_max, d1_resprate_min, d1_spo2_max, d1_spo2_min, d1_sysbp_invasive_max, d1_sysbp_invasive_min, d1_sysbp_max, d1_sysbp_min, d1_sysbp_noninvasive_max, d1_sysbp_noninvasive_min, d1_temp_max, d1_temp_min, h1_diasbp_invasive_max, h1_diasbp_invasive_min, h1_diasbp_max, h1_diasbp_min, h1_diasbp_noninvasive_max, h1_diasbp_noninvasive_min, h1_heartrate_max, h1_heartrate_min, h1_mbp_invasive_max, h1_mbp_invasive_min, h1_mbp_max, h1_mbp_min, h1_mbp_noninvasive_max, h1_mbp_noninvasive_min, h1_resprate_max, h1_resprate_min, h1_spo2_max, h1_spo2_min, h1_sysbp_invasive_max, h1_sysbp_invasive_min, h1_sysbp_max, h1_sysbp_min, h1_sysbp_noninvasive_max, h1_sysbp_noninvasive_min, h1_temp_max, h1_temp_min, d1_albumin_max, d1_albumin_min, d1_bilirubin_max, d1_bilirubin_min, ...]\n",
       "Index: []\n",
       "\n",
       "[0 rows x 180 columns]"
      ]
     },
     "execution_count": 6,
     "metadata": {},
     "output_type": "execute_result"
    }
   ],
   "source": [
    "# Duplicated rows\n",
    "train[train.duplicated() == True]"
   ]
  },
  {
   "cell_type": "markdown",
   "metadata": {},
   "source": [
    "* No duplicated rows"
   ]
  },
  {
   "cell_type": "markdown",
   "metadata": {},
   "source": [
    "## 2. Data distribution"
   ]
  },
  {
   "cell_type": "code",
   "execution_count": 7,
   "metadata": {},
   "outputs": [
    {
     "data": {
      "text/plain": [
       "array([dtype('int64'), dtype('float64'), dtype('O')], dtype=object)"
      ]
     },
     "execution_count": 7,
     "metadata": {},
     "output_type": "execute_result"
    }
   ],
   "source": [
    "# Data types\n",
    "train.dtypes.unique()"
   ]
  },
  {
   "cell_type": "code",
   "execution_count": 8,
   "metadata": {},
   "outputs": [
    {
     "name": "stdout",
     "output_type": "stream",
     "text": [
      "(130157, 13)\n",
      "(130157, 6)\n",
      "(130157, 161)\n"
     ]
    }
   ],
   "source": [
    "# Separate data by binary, categorical, continous types\n",
    "\n",
    "# Binary\n",
    "two_unique_values = (train.nunique().values == 2) # find columns # unique value equals 2\n",
    "binary = train.loc[:,two_unique_values] # select columns\n",
    "binary = binary.loc[:, ~binary.isna().any()] # remove columns containing nulls\n",
    "\n",
    "# Categorical & continuous\n",
    "non_binaries = [col for col in train.columns if col not in binary.columns]\n",
    "train_non_bi = train[non_binaries]\n",
    "categoricals = train_non_bi.select_dtypes(include=[\"object\"])\n",
    "continuous = train_non_bi.select_dtypes(exclude=[\"object\"])\n",
    "\n",
    "print(binary.shape)\n",
    "print(categoricals.shape)\n",
    "print(continuous.shape)"
   ]
  },
  {
   "cell_type": "markdown",
   "metadata": {},
   "source": [
    "## 2-1. Binary variables"
   ]
  },
  {
   "cell_type": "code",
   "execution_count": 9,
   "metadata": {},
   "outputs": [
    {
     "data": {
      "text/plain": [
       "elective_surgery               0.0\n",
       "apache_post_operative          0.0\n",
       "arf_apache                     0.0\n",
       "intubated_apache               0.0\n",
       "ventilated_apache              0.0\n",
       "aids                           0.0\n",
       "cirrhosis                      0.0\n",
       "hepatic_failure                0.0\n",
       "immunosuppression              0.0\n",
       "leukemia                       0.0\n",
       "lymphoma                       0.0\n",
       "solid_tumor_with_metastasis    0.0\n",
       "diabetes_mellitus              0.0\n",
       "dtype: float64"
      ]
     },
     "execution_count": 9,
     "metadata": {},
     "output_type": "execute_result"
    }
   ],
   "source": [
    "# Missing data?\n",
    "binary.isnull().mean()"
   ]
  },
  {
   "cell_type": "markdown",
   "metadata": {},
   "source": [
    "* No missing rows"
   ]
  },
  {
   "cell_type": "code",
   "execution_count": 10,
   "metadata": {},
   "outputs": [
    {
     "data": {
      "text/plain": [
       "(130157, 12)"
      ]
     },
     "execution_count": 10,
     "metadata": {},
     "output_type": "execute_result"
    }
   ],
   "source": [
    "binary.drop('diabetes_mellitus', axis=1, inplace=True)\n",
    "binary.shape"
   ]
  },
  {
   "cell_type": "code",
   "execution_count": 11,
   "metadata": {},
   "outputs": [
    {
     "data": {
      "application/vnd.jupyter.widget-view+json": {
       "model_id": "496e7004246f46d39854e1d290afbac3",
       "version_major": 2,
       "version_minor": 0
      },
      "text/plain": [
       "interactive(children=(Dropdown(description='cols', options=('elective_surgery', 'apache_post_operative', 'arf_…"
      ]
     },
     "metadata": {},
     "output_type": "display_data"
    }
   ],
   "source": [
    "# Interactive plot to check distribution of binary variables\n",
    "@interact(cols=binary.columns)\n",
    "def get_countplot_binary(cols):\n",
    "    plt.figure(figsize=(12,6))\n",
    "    plt.title(f'Distribution of {cols}')\n",
    "    sns.countplot(train[cols])\n",
    "    \n",
    "    # Print normalized counts of each variable\n",
    "    print(binary[cols].value_counts(normalize=True).round(2))"
   ]
  },
  {
   "cell_type": "code",
   "execution_count": 12,
   "metadata": {},
   "outputs": [
    {
     "data": {
      "application/vnd.jupyter.widget-view+json": {
       "model_id": "6694f68de83c4fe8a386290ad330fa4c",
       "version_major": 2,
       "version_minor": 0
      },
      "text/plain": [
       "interactive(children=(Dropdown(description='cols', options=('elective_surgery', 'apache_post_operative', 'arf_…"
      ]
     },
     "metadata": {},
     "output_type": "display_data"
    }
   ],
   "source": [
    "# Interactive plot to check relationships\n",
    "# between the binary variables and the target variable\n",
    "@interact(cols=binary.columns)\n",
    "def get_countplot_diabetes(cols):\n",
    "    plt.figure(figsize=(12,6))\n",
    "    sns.countplot(x=cols, hue='diabetes_mellitus', data=train)\n",
    "    plt.title(f'Diabetes mellitus (0, 1) and {cols}')\n",
    "    plt.legend(bbox_to_anchor=(1.15, 1))\n",
    "    \n",
    "    # Print normalized counts of each variable\n",
    "    print(train.groupby('diabetes_mellitus')[cols].value_counts(normalize=True).round(2))\n",
    "    \n",
    "    # This part is for categorical vaviables below\n",
    "    # Rotate the xlabels if more than 4 values available\n",
    "    if train[cols].nunique() > 4:\n",
    "         plt.xticks(rotation=40)"
   ]
  },
  {
   "cell_type": "markdown",
   "metadata": {},
   "source": [
    "### Highlights of binary data\n",
    "\n",
    "**arf_apache**\n",
    "* When there was no diabetes: positive 2 %\n",
    "* When there was diabetes: positive 6 %\n",
    "\n",
    "    * *APACHE*: Acute Physiology and Chronic Health Evaluation II score to predict hospital mortality"
   ]
  },
  {
   "cell_type": "markdown",
   "metadata": {},
   "source": [
    "## 2-2. Categorical variables"
   ]
  },
  {
   "cell_type": "code",
   "execution_count": 13,
   "metadata": {},
   "outputs": [
    {
     "data": {
      "text/plain": [
       "ethnicity                0.012193\n",
       "gender                   0.000507\n",
       "hospital_admit_source    0.255061\n",
       "icu_admit_source         0.001844\n",
       "icu_stay_type            0.000000\n",
       "icu_type                 0.000000\n",
       "dtype: float64"
      ]
     },
     "execution_count": 13,
     "metadata": {},
     "output_type": "execute_result"
    }
   ],
   "source": [
    "# Missing data per each column\n",
    "categoricals.isnull().mean()"
   ]
  },
  {
   "cell_type": "markdown",
   "metadata": {},
   "source": [
    "* 25% of the observations lack their hospital_admit_source"
   ]
  },
  {
   "cell_type": "code",
   "execution_count": 14,
   "metadata": {},
   "outputs": [
    {
     "data": {
      "application/vnd.jupyter.widget-view+json": {
       "model_id": "01e1fb7cef654e98b35a336b3b7491e6",
       "version_major": 2,
       "version_minor": 0
      },
      "text/plain": [
       "interactive(children=(Dropdown(description='cols', options=('ethnicity', 'gender', 'hospital_admit_source', 'i…"
      ]
     },
     "metadata": {},
     "output_type": "display_data"
    }
   ],
   "source": [
    "# Interactive plot to check distribution of categorical variables\n",
    "@interact(cols=categoricals.columns)\n",
    "def get_countplot_cat(cols):\n",
    "    plt.figure(figsize=(12,6))\n",
    "    plt.title(f'Distribution of {cols}')\n",
    "    sns.countplot(train[cols])\n",
    "    \n",
    "    # Rotate the xlabels if more than 4 values available\n",
    "    if categoricals[cols].nunique() > 4:\n",
    "         plt.xticks(rotation=40)\n",
    "            \n",
    "    # Print normalized counts of each variable\n",
    "    print(categoricals[cols].value_counts(normalize=True).round(2))"
   ]
  },
  {
   "cell_type": "markdown",
   "metadata": {},
   "source": [
    "### Highlights of categorical data\n",
    "\n",
    "**Ethnity**\n",
    "* Highly unbalanced ratial distribution: Majority of the data (~78%) is from Caucasians.\n",
    "\n",
    "**Gender**\n",
    "* Slightly more male samples(54%) than the females (46%)\n",
    "\n",
    "**Hospital admit source**\n",
    "* More than 52% from Emergercy Department. (Remember, 25% of the patients lack this information)\n",
    "\n",
    "**ICU admit source**\n",
    "* Over 59% of patients admitted to ICU after Accident & Emergency\n",
    "\n",
    "**ICU stay type**\n",
    "* Most(95%) of the patients stay admitted to the unit, ~4% transferred to other locations, <1% readmitted\n",
    "\n",
    "**ICU type**\n",
    "* ~55% of the patients in Med-Surg ICU (=Medical Surgical Intensive Care Unit)"
   ]
  },
  {
   "cell_type": "code",
   "execution_count": 15,
   "metadata": {},
   "outputs": [
    {
     "data": {
      "application/vnd.jupyter.widget-view+json": {
       "model_id": "34919c853d814ce28af7a5c27382d32f",
       "version_major": 2,
       "version_minor": 0
      },
      "text/plain": [
       "interactive(children=(Dropdown(description='cols', options=('ethnicity', 'gender', 'hospital_admit_source', 'i…"
      ]
     },
     "metadata": {},
     "output_type": "display_data"
    },
    {
     "data": {
      "text/plain": [
       "<function __main__.get_countplot_diabetes(cols)>"
      ]
     },
     "execution_count": 15,
     "metadata": {},
     "output_type": "execute_result"
    }
   ],
   "source": [
    "# Interactive plot to check relationships\n",
    "# between the categorical variables and the target variable\n",
    "interact(get_countplot_diabetes, cols=categoricals.columns)"
   ]
  },
  {
   "cell_type": "markdown",
   "metadata": {},
   "source": [
    "**Ethnity**\n",
    "* Regardless of ethnity, 20-30 % of the patients from the data had diabetes mellitus\n",
    "\n",
    "**Gender**\n",
    "* In both sexes, 21-22 % of the patiens had diabetes mellitus\n",
    "\n",
    "**Hospital admit source, ICU admit source, ICU stay type, ICU type**\n",
    "* Similar to ethnity, roughly 20-30 % of each group had diabetes mellitus\n",
    "\n",
    "**icu_admit_source and icu_type**\n",
    "* Slight changes in order of frequency when compared negative vs. positive to diabetes mellitus"
   ]
  },
  {
   "cell_type": "markdown",
   "metadata": {},
   "source": [
    "## 2-3. Continuous variables"
   ]
  },
  {
   "cell_type": "code",
   "execution_count": 16,
   "metadata": {},
   "outputs": [
    {
     "data": {
      "application/vnd.jupyter.widget-view+json": {
       "model_id": "ead7a9522c73452a95996b740768f25a",
       "version_major": 2,
       "version_minor": 0
      },
      "text/plain": [
       "interactive(children=(Dropdown(description='cols', options=('age', 'bmi', 'height', 'pre_icu_los_days', 'readm…"
      ]
     },
     "metadata": {},
     "output_type": "display_data"
    }
   ],
   "source": [
    "# Interactive plot to check distribution of continuous variables\n",
    "\n",
    "# Excude ids from plot\n",
    "except_ids = [col for col in continuous.columns if col[-2:] != 'id']\n",
    "\n",
    "# Histograms to show distribution of continuous values\n",
    "@interact(cols=except_ids)\n",
    "def get_histplot(cols):\n",
    "    plt.figure(figsize=(12,6))\n",
    "    plt.title(f'Distribution of {cols}')\n",
    "    sns.histplot(continuous[cols])\n",
    "    \n",
    "    plt.axvline(continuous[cols].median(), color='red')  # Median in red\n",
    "    plt.axvline(continuous[cols].mean(), color='green')  # Mean in green\n",
    "    \n",
    "    print('Mean: ', round(continuous[cols].mean(), 1))\n",
    "    print('Median: ', round(continuous[cols].median(), 1))"
   ]
  },
  {
   "cell_type": "code",
   "execution_count": 17,
   "metadata": {},
   "outputs": [
    {
     "data": {
      "application/vnd.jupyter.widget-view+json": {
       "model_id": "a3a97d6ca7dc4e32a1adffd14177f765",
       "version_major": 2,
       "version_minor": 0
      },
      "text/plain": [
       "interactive(children=(Dropdown(description='cols', options=('age', 'bmi', 'height', 'pre_icu_los_days', 'readm…"
      ]
     },
     "metadata": {},
     "output_type": "display_data"
    }
   ],
   "source": [
    "# Interactive relplot between continuous variables and the target variable\n",
    "@interact(cols=except_ids + ['diabetes_mellitus'])\n",
    "def get_boxplot(cols):\n",
    "    plt.figure(figsize=(12,6))\n",
    "    sns.boxplot(x=train['diabetes_mellitus'], y=train[cols])\n",
    "    plt.title(f'Diabetes mellitus (0, 1) and {cols}')\n",
    "    \n",
    "    # Print normalized counts of each variable\n",
    "    count_diabetes = train.groupby('diabetes_mellitus')[cols].count()\n",
    "    print('Total counts: ', count_diabetes.sum())\n",
    "    print(' ')\n",
    "    print(count_diabetes)\n",
    "    print(' ')\n",
    "    \n",
    "    # Print mean values\n",
    "    diabetes = train['diabetes_mellitus'] == 1\n",
    "    positive = train[diabetes][cols]\n",
    "    negative = train[~diabetes][cols]\n",
    "    print('No diabetes meallitus(0)', negative.mean())\n",
    "    print('Diabetes meallitus(1)', positive.mean())"
   ]
  },
  {
   "cell_type": "code",
   "execution_count": 18,
   "metadata": {},
   "outputs": [
    {
     "name": "stdout",
     "output_type": "stream",
     "text": [
      "133\n",
      "['age', 'bmi', 'icu_id', 'pre_icu_los_days', 'weight']\n"
     ]
    }
   ],
   "source": [
    "# Calculate ttest and print only the columns with significant difference\n",
    "diabetes = train['diabetes_mellitus'] == 1\n",
    "significant_cols = []\n",
    "\n",
    "for col in continuous.columns:\n",
    "    positive = continuous[diabetes][col]\n",
    "    negative = continuous[~diabetes][col]\n",
    "    tstats , p_value = stats.ttest_ind(negative.values, positive.values, nan_policy='omit')\n",
    "\n",
    "    if p_value < 0.05:\n",
    "        significant_cols.append(col)\n",
    "        \n",
    "print(len(significant_cols))\n",
    "print(significant_cols[:5])"
   ]
  },
  {
   "cell_type": "markdown",
   "metadata": {},
   "source": [
    "### Highlight of continous data\n",
    "\n",
    "**Significant difference between groups**\n",
    "* 133 out of 161 columns including age, bmi, pre_icu_los_days, weight."
   ]
  },
  {
   "cell_type": "code",
   "execution_count": 19,
   "metadata": {},
   "outputs": [
    {
     "data": {
      "text/plain": [
       "h1_diasbp_invasive_min   -0.103672\n",
       "h1_diasbp_invasive_max   -0.088664\n",
       "h1_hco3_max              -0.086883\n",
       "h1_hco3_min              -0.086548\n",
       "d1_diasbp_invasive_min   -0.084994\n",
       "                            ...   \n",
       "h1_glucose_min            0.304520\n",
       "h1_glucose_max            0.316847\n",
       "glucose_apache            0.354359\n",
       "d1_glucose_max            0.400742\n",
       "diabetes_mellitus         1.000000\n",
       "Name: diabetes_mellitus, Length: 134, dtype: float64"
      ]
     },
     "execution_count": 19,
     "metadata": {},
     "output_type": "execute_result"
    }
   ],
   "source": [
    "# Highly linearly correlated continuous variable?\n",
    "cols_for_corr = significant_cols + ['diabetes_mellitus']\n",
    "corr = train[cols_for_corr].corr()['diabetes_mellitus'].sort_values()\n",
    "corr"
   ]
  },
  {
   "cell_type": "code",
   "execution_count": 20,
   "metadata": {},
   "outputs": [],
   "source": [
    "# heatmap?"
   ]
  },
  {
   "cell_type": "markdown",
   "metadata": {},
   "source": [
    "# 3. Data cleaning + Feature engineering"
   ]
  },
  {
   "cell_type": "code",
   "execution_count": 43,
   "metadata": {
    "scrolled": true
   },
   "outputs": [
    {
     "name": "stdout",
     "output_type": "stream",
     "text": [
      "(130157, 180)\n",
      "(10234, 179)\n"
     ]
    }
   ],
   "source": [
    "fin_cols = list(binary.columns) + list(categoricals.columns) + list(continuous.columns)\n",
    "\n",
    "train_new = train[fin_cols + ['diabetes_mellitus']]\n",
    "test_new = test[fin_cols]\n",
    "\n",
    "print(train_new.shape)\n",
    "print(test_new.shape)"
   ]
  },
  {
   "cell_type": "code",
   "execution_count": 44,
   "metadata": {},
   "outputs": [
    {
     "data": {
      "text/html": [
       "<div>\n",
       "<style scoped>\n",
       "    .dataframe tbody tr th:only-of-type {\n",
       "        vertical-align: middle;\n",
       "    }\n",
       "\n",
       "    .dataframe tbody tr th {\n",
       "        vertical-align: top;\n",
       "    }\n",
       "\n",
       "    .dataframe thead th {\n",
       "        text-align: right;\n",
       "    }\n",
       "</style>\n",
       "<table border=\"1\" class=\"dataframe\">\n",
       "  <thead>\n",
       "    <tr style=\"text-align: right;\">\n",
       "      <th></th>\n",
       "      <th>elective_surgery</th>\n",
       "      <th>apache_post_operative</th>\n",
       "      <th>arf_apache</th>\n",
       "      <th>intubated_apache</th>\n",
       "      <th>ventilated_apache</th>\n",
       "      <th>aids</th>\n",
       "      <th>cirrhosis</th>\n",
       "      <th>hepatic_failure</th>\n",
       "      <th>immunosuppression</th>\n",
       "      <th>leukemia</th>\n",
       "      <th>...</th>\n",
       "      <th>d1_pao2fio2ratio_max</th>\n",
       "      <th>d1_pao2fio2ratio_min</th>\n",
       "      <th>h1_arterial_pco2_max</th>\n",
       "      <th>h1_arterial_pco2_min</th>\n",
       "      <th>h1_arterial_ph_max</th>\n",
       "      <th>h1_arterial_ph_min</th>\n",
       "      <th>h1_arterial_po2_max</th>\n",
       "      <th>h1_arterial_po2_min</th>\n",
       "      <th>h1_pao2fio2ratio_max</th>\n",
       "      <th>h1_pao2fio2ratio_min</th>\n",
       "    </tr>\n",
       "    <tr>\n",
       "      <th>encounter_id</th>\n",
       "      <th></th>\n",
       "      <th></th>\n",
       "      <th></th>\n",
       "      <th></th>\n",
       "      <th></th>\n",
       "      <th></th>\n",
       "      <th></th>\n",
       "      <th></th>\n",
       "      <th></th>\n",
       "      <th></th>\n",
       "      <th></th>\n",
       "      <th></th>\n",
       "      <th></th>\n",
       "      <th></th>\n",
       "      <th></th>\n",
       "      <th></th>\n",
       "      <th></th>\n",
       "      <th></th>\n",
       "      <th></th>\n",
       "      <th></th>\n",
       "      <th></th>\n",
       "    </tr>\n",
       "  </thead>\n",
       "  <tbody>\n",
       "    <tr>\n",
       "      <th>135000</th>\n",
       "      <td>1</td>\n",
       "      <td>1</td>\n",
       "      <td>0</td>\n",
       "      <td>1</td>\n",
       "      <td>1</td>\n",
       "      <td>0</td>\n",
       "      <td>0</td>\n",
       "      <td>0</td>\n",
       "      <td>0</td>\n",
       "      <td>0</td>\n",
       "      <td>...</td>\n",
       "      <td>387.5</td>\n",
       "      <td>200.0</td>\n",
       "      <td>49.0</td>\n",
       "      <td>44.0</td>\n",
       "      <td>7.31</td>\n",
       "      <td>7.28</td>\n",
       "      <td>500.0</td>\n",
       "      <td>122.0</td>\n",
       "      <td>244.0</td>\n",
       "      <td>244.0</td>\n",
       "    </tr>\n",
       "    <tr>\n",
       "      <th>135001</th>\n",
       "      <td>0</td>\n",
       "      <td>0</td>\n",
       "      <td>0</td>\n",
       "      <td>0</td>\n",
       "      <td>0</td>\n",
       "      <td>0</td>\n",
       "      <td>0</td>\n",
       "      <td>0</td>\n",
       "      <td>0</td>\n",
       "      <td>0</td>\n",
       "      <td>...</td>\n",
       "      <td>NaN</td>\n",
       "      <td>NaN</td>\n",
       "      <td>NaN</td>\n",
       "      <td>NaN</td>\n",
       "      <td>NaN</td>\n",
       "      <td>NaN</td>\n",
       "      <td>NaN</td>\n",
       "      <td>NaN</td>\n",
       "      <td>NaN</td>\n",
       "      <td>NaN</td>\n",
       "    </tr>\n",
       "    <tr>\n",
       "      <th>135002</th>\n",
       "      <td>0</td>\n",
       "      <td>0</td>\n",
       "      <td>0</td>\n",
       "      <td>1</td>\n",
       "      <td>1</td>\n",
       "      <td>0</td>\n",
       "      <td>0</td>\n",
       "      <td>0</td>\n",
       "      <td>0</td>\n",
       "      <td>0</td>\n",
       "      <td>...</td>\n",
       "      <td>157.5</td>\n",
       "      <td>157.5</td>\n",
       "      <td>NaN</td>\n",
       "      <td>NaN</td>\n",
       "      <td>NaN</td>\n",
       "      <td>NaN</td>\n",
       "      <td>NaN</td>\n",
       "      <td>NaN</td>\n",
       "      <td>NaN</td>\n",
       "      <td>NaN</td>\n",
       "    </tr>\n",
       "    <tr>\n",
       "      <th>135003</th>\n",
       "      <td>0</td>\n",
       "      <td>0</td>\n",
       "      <td>0</td>\n",
       "      <td>0</td>\n",
       "      <td>1</td>\n",
       "      <td>0</td>\n",
       "      <td>0</td>\n",
       "      <td>0</td>\n",
       "      <td>0</td>\n",
       "      <td>0</td>\n",
       "      <td>...</td>\n",
       "      <td>360.0</td>\n",
       "      <td>360.0</td>\n",
       "      <td>74.0</td>\n",
       "      <td>74.0</td>\n",
       "      <td>7.21</td>\n",
       "      <td>7.21</td>\n",
       "      <td>110.0</td>\n",
       "      <td>110.0</td>\n",
       "      <td>NaN</td>\n",
       "      <td>NaN</td>\n",
       "    </tr>\n",
       "    <tr>\n",
       "      <th>135004</th>\n",
       "      <td>0</td>\n",
       "      <td>0</td>\n",
       "      <td>0</td>\n",
       "      <td>0</td>\n",
       "      <td>1</td>\n",
       "      <td>0</td>\n",
       "      <td>0</td>\n",
       "      <td>0</td>\n",
       "      <td>0</td>\n",
       "      <td>0</td>\n",
       "      <td>...</td>\n",
       "      <td>313.3</td>\n",
       "      <td>313.3</td>\n",
       "      <td>NaN</td>\n",
       "      <td>NaN</td>\n",
       "      <td>NaN</td>\n",
       "      <td>NaN</td>\n",
       "      <td>NaN</td>\n",
       "      <td>NaN</td>\n",
       "      <td>NaN</td>\n",
       "      <td>NaN</td>\n",
       "    </tr>\n",
       "  </tbody>\n",
       "</table>\n",
       "<p>5 rows × 178 columns</p>\n",
       "</div>"
      ],
      "text/plain": [
       "              elective_surgery  apache_post_operative  arf_apache  \\\n",
       "encounter_id                                                        \n",
       "135000                       1                      1           0   \n",
       "135001                       0                      0           0   \n",
       "135002                       0                      0           0   \n",
       "135003                       0                      0           0   \n",
       "135004                       0                      0           0   \n",
       "\n",
       "              intubated_apache  ventilated_apache  aids  cirrhosis  \\\n",
       "encounter_id                                                         \n",
       "135000                       1                  1     0          0   \n",
       "135001                       0                  0     0          0   \n",
       "135002                       1                  1     0          0   \n",
       "135003                       0                  1     0          0   \n",
       "135004                       0                  1     0          0   \n",
       "\n",
       "              hepatic_failure  immunosuppression  leukemia  ...  \\\n",
       "encounter_id                                                ...   \n",
       "135000                      0                  0         0  ...   \n",
       "135001                      0                  0         0  ...   \n",
       "135002                      0                  0         0  ...   \n",
       "135003                      0                  0         0  ...   \n",
       "135004                      0                  0         0  ...   \n",
       "\n",
       "              d1_pao2fio2ratio_max  d1_pao2fio2ratio_min h1_arterial_pco2_max  \\\n",
       "encounter_id                                                                    \n",
       "135000                       387.5                 200.0                 49.0   \n",
       "135001                         NaN                   NaN                  NaN   \n",
       "135002                       157.5                 157.5                  NaN   \n",
       "135003                       360.0                 360.0                 74.0   \n",
       "135004                       313.3                 313.3                  NaN   \n",
       "\n",
       "             h1_arterial_pco2_min h1_arterial_ph_max h1_arterial_ph_min  \\\n",
       "encounter_id                                                              \n",
       "135000                       44.0               7.31               7.28   \n",
       "135001                        NaN                NaN                NaN   \n",
       "135002                        NaN                NaN                NaN   \n",
       "135003                       74.0               7.21               7.21   \n",
       "135004                        NaN                NaN                NaN   \n",
       "\n",
       "             h1_arterial_po2_max h1_arterial_po2_min  h1_pao2fio2ratio_max  \\\n",
       "encounter_id                                                                 \n",
       "135000                     500.0               122.0                 244.0   \n",
       "135001                       NaN                 NaN                   NaN   \n",
       "135002                       NaN                 NaN                   NaN   \n",
       "135003                     110.0               110.0                   NaN   \n",
       "135004                       NaN                 NaN                   NaN   \n",
       "\n",
       "              h1_pao2fio2ratio_min  \n",
       "encounter_id                        \n",
       "135000                       244.0  \n",
       "135001                         NaN  \n",
       "135002                         NaN  \n",
       "135003                         NaN  \n",
       "135004                         NaN  \n",
       "\n",
       "[5 rows x 178 columns]"
      ]
     },
     "execution_count": 44,
     "metadata": {},
     "output_type": "execute_result"
    }
   ],
   "source": [
    "train_new = train_new.sort_values('encounter_id')\n",
    "test_new = test_new.sort_values('encounter_id')\n",
    "\n",
    "train_new.set_index('encounter_id', inplace=True)\n",
    "test_new.set_index('encounter_id', inplace=True)\n",
    "\n",
    "test_new.head()"
   ]
  },
  {
   "cell_type": "code",
   "execution_count": 45,
   "metadata": {},
   "outputs": [
    {
     "data": {
      "text/plain": [
       "elective_surgery         0.000000\n",
       "apache_post_operative    0.000000\n",
       "arf_apache               0.000000\n",
       "intubated_apache         0.000000\n",
       "ventilated_apache        0.000000\n",
       "                           ...   \n",
       "h1_arterial_po2_max      0.825503\n",
       "h1_arterial_po2_min      0.825503\n",
       "h1_pao2fio2ratio_max     0.871232\n",
       "h1_pao2fio2ratio_min     0.871232\n",
       "diabetes_mellitus        0.000000\n",
       "Length: 179, dtype: float64"
      ]
     },
     "execution_count": 45,
     "metadata": {},
     "output_type": "execute_result"
    }
   ],
   "source": [
    "# Let's drop some columns of which the majority are empty rows\n",
    "# First, examine the proportion of empty values of each column\n",
    "prop_nulls = train_new.isnull().mean()\n",
    "prop_nulls"
   ]
  },
  {
   "cell_type": "code",
   "execution_count": 46,
   "metadata": {},
   "outputs": [],
   "source": [
    "# # Let's say we drop the entire rows of columns of which >=10% are empty\n",
    "# # since those will be hard to be imputed in the future\n",
    "# less_than_10p = prop_nulls[prop_nulls < 0.1]\n",
    "# cols_to_keep = list(less_than_10p.index)\n",
    "# train_new = train_new[[c for c in cols_to_keep if c in test_new.columns] + ['diabetes_mellitus']]\n",
    "# test_new = test_new[[c for c in test_new.columns if c in cols_to_keep]]\n",
    "\n",
    "# print(train_new.shape)\n",
    "# print(test_new.shape)"
   ]
  },
  {
   "cell_type": "code",
   "execution_count": 47,
   "metadata": {},
   "outputs": [
    {
     "name": "stdout",
     "output_type": "stream",
     "text": [
      "(130157, 105)\n",
      "(10234, 104)\n"
     ]
    }
   ],
   "source": [
    "# Let's say we drop the entire rows of columns of which >=30% are empty\n",
    "# since those will be hard to be imputed in the future\n",
    "less_than_30p = prop_nulls[prop_nulls < 0.3]\n",
    "cols_to_keep = list(less_than_30p.index)\n",
    "\n",
    "# Keeep the cols_to_keep only if they exist in both train_new and test_new\n",
    "train_new = train_new[[c for c in cols_to_keep if c in test_new.columns] + ['diabetes_mellitus']]\n",
    "test_new = test_new[[c for c in test_new.columns if c in cols_to_keep]]\n",
    "\n",
    "print(train_new.shape)\n",
    "print(test_new.shape)"
   ]
  },
  {
   "cell_type": "markdown",
   "metadata": {},
   "source": [
    "Let's plot the current columns to decide imputation methods"
   ]
  },
  {
   "cell_type": "code",
   "execution_count": 48,
   "metadata": {},
   "outputs": [
    {
     "data": {
      "application/vnd.jupyter.widget-view+json": {
       "model_id": "c9aa654907e24752b3f0fa44cb682d47",
       "version_major": 2,
       "version_minor": 0
      },
      "text/plain": [
       "interactive(children=(Dropdown(description='col', options=('elective_surgery', 'apache_post_operative', 'arf_a…"
      ]
     },
     "metadata": {},
     "output_type": "display_data"
    }
   ],
   "source": [
    "@interact(col=train_new.columns)\n",
    "def another_plot(col):\n",
    "    plt.figure(figsize=(10,5))\n",
    "    if col in continuous.columns:\n",
    "        train_new.groupby('diabetes_mellitus')[col].hist()\n",
    "    else:\n",
    "        sns.countplot(x=col, hue='diabetes_mellitus', data=train)"
   ]
  },
  {
   "cell_type": "markdown",
   "metadata": {},
   "source": [
    "* outliers to remove\n",
    "    * bmi, d1_resprate_max, d1_temp_min\n",
    "\n",
    "\n",
    "* highly skewed -> log transformation\n",
    "    * apache_3j_diagnosis, bun_apache, glucose_apache, wbc_apache, d1_spo2_min, h1_spo2_max, h1_spo2_min, d1_bun_max, d1_bun_min, d1_creatinine_max, d1_creatinine_min, d1_glucose_max"
   ]
  },
  {
   "cell_type": "code",
   "execution_count": 27,
   "metadata": {},
   "outputs": [],
   "source": [
    "# def remove_outliers(df):\n",
    "#     outlier_cols = ['bmi', 'd1_resprate_max', 'd1_temp_min']\n",
    "#     for col in outlier_cols:\n",
    "#         df[(np.abs(stats.zscore(df[col])) < 3)]\n",
    "        \n",
    "# remove_outliers(train_new)\n",
    "# remove_outliers(test_new)"
   ]
  },
  {
   "cell_type": "code",
   "execution_count": 49,
   "metadata": {},
   "outputs": [
    {
     "name": "stdout",
     "output_type": "stream",
     "text": [
      "elective_surgery             0\n",
      "apache_post_operative        0\n",
      "arf_apache                   0\n",
      "intubated_apache             0\n",
      "ventilated_apache            0\n",
      "                         ...  \n",
      "d1_sodium_max                0\n",
      "d1_sodium_min                0\n",
      "d1_wbc_max               17429\n",
      "d1_wbc_min               17429\n",
      "diabetes_mellitus            0\n",
      "Length: 105, dtype: int64\n"
     ]
    }
   ],
   "source": [
    "# Let's impute the rest of the empty values\n",
    "cont_columns = [col for col in train_new.columns if col in continuous.columns]\n",
    "cont_columns_test = [col for col in test_new.columns if col in continuous.columns]\n",
    "\n",
    "def fill_nas(df, columns):\n",
    "    for col in columns:\n",
    "        try:\n",
    "            col != 'diabetes_mellitus'\n",
    "            \n",
    "            # Let's use mode values if the difference btw mean and median is more than 10% of std\n",
    "            diff_mean_and_median = abs(df[col].mean() - df[col].median())\n",
    "            std_10 = df[col].std()*0.1\n",
    "\n",
    "            if diff_mean_and_median > std_10:\n",
    "                df[col] = df[col].transform(lambda x: x.fillna(x.mode()))\n",
    "\n",
    "            # else, use median to impute\n",
    "            else:\n",
    "                df[col] = df[col].transform(lambda x: x.fillna(x.median()))  \n",
    "            \n",
    "        except:\n",
    "            pass\n",
    "\n",
    "    \n",
    "fill_nas(train_new, cont_columns)\n",
    "fill_nas(test_new, cont_columns_test)\n",
    "\n",
    "print(train_new.isnull().sum())"
   ]
  },
  {
   "cell_type": "code",
   "execution_count": 50,
   "metadata": {},
   "outputs": [
    {
     "name": "stdout",
     "output_type": "stream",
     "text": [
      "(130157, 132)\n",
      "(10234, 126)\n"
     ]
    }
   ],
   "source": [
    "# Convert string (categorical) values into numbers using dummies\n",
    "train_new = pd.get_dummies(train_new, drop_first=True, dtype='int64')\n",
    "test_new = pd.get_dummies(test_new, drop_first=True, dtype='int64')\n",
    "print(train_new.shape)\n",
    "print(test_new.shape)"
   ]
  },
  {
   "cell_type": "code",
   "execution_count": 51,
   "metadata": {},
   "outputs": [
    {
     "name": "stdout",
     "output_type": "stream",
     "text": [
      "(56983, 132)\n",
      "(4899, 126)\n"
     ]
    }
   ],
   "source": [
    "# Let's drop the rest of the missing rows for a simple modeling\n",
    "train_new = train_new.dropna()\n",
    "test_new = test_new.dropna()\n",
    "\n",
    "print(train_new.shape)\n",
    "print(test_new.shape)"
   ]
  },
  {
   "cell_type": "markdown",
   "metadata": {},
   "source": [
    "# 3. Modeling - A. Baseline"
   ]
  },
  {
   "cell_type": "code",
   "execution_count": 52,
   "metadata": {
    "scrolled": true
   },
   "outputs": [
    {
     "name": "stdout",
     "output_type": "stream",
     "text": [
      "(39888, 126)\n",
      "(17095, 126)\n",
      "(39888,)\n",
      "(17095,)\n"
     ]
    }
   ],
   "source": [
    "# Split the data into train and test sets for supervised learning.\n",
    "# Define features and the target\n",
    "# features = [col for col in train_new.columns if col != 'diabetes_mellitus']\n",
    "X = train_new[test_new.columns]\n",
    "y = train_new['diabetes_mellitus']\n",
    "\n",
    "# train_test split\n",
    "X_train, X_test, y_train, y_test = train_test_split(X, y, test_size=0.3)\n",
    "\n",
    "print(X_train.shape)\n",
    "print(X_test.shape)\n",
    "print(y_train.shape)\n",
    "print(y_test.shape)"
   ]
  },
  {
   "cell_type": "code",
   "execution_count": 53,
   "metadata": {},
   "outputs": [],
   "source": [
    "# Initiate standard scaler\n",
    "scaler = StandardScaler()\n",
    "\n",
    "# Fit and transform the features from both train and test set\n",
    "X_train = scaler.fit_transform(X_train)\n",
    "X_test = scaler.transform(X_test)\n",
    "test_new = scaler.transform(test_new)"
   ]
  },
  {
   "cell_type": "code",
   "execution_count": 54,
   "metadata": {},
   "outputs": [],
   "source": [
    "# Use a logistic function (sigmoidal function) for a classic binary classification problem\n",
    "# in which the prediction input is a probability value between 0 and 1.\n",
    "\n",
    "logmodel = LogisticRegression()\n",
    "logmodel.fit(X_train, y_train)\n",
    "y_pred_baseline = logmodel.predict(X_test)"
   ]
  },
  {
   "cell_type": "code",
   "execution_count": 55,
   "metadata": {},
   "outputs": [
    {
     "name": "stdout",
     "output_type": "stream",
     "text": [
      "              precision    recall  f1-score   support\n",
      "\n",
      "           0       0.83      0.95      0.89     13340\n",
      "           1       0.64      0.32      0.43      3755\n",
      "\n",
      "    accuracy                           0.81     17095\n",
      "   macro avg       0.74      0.64      0.66     17095\n",
      "weighted avg       0.79      0.81      0.79     17095\n",
      "\n"
     ]
    }
   ],
   "source": [
    "print(classification_report(y_test, y_pred_baseline))"
   ]
  },
  {
   "cell_type": "code",
   "execution_count": 56,
   "metadata": {},
   "outputs": [
    {
     "data": {
      "text/plain": [
       "<Figure size 720x720 with 0 Axes>"
      ]
     },
     "metadata": {},
     "output_type": "display_data"
    },
    {
     "data": {
      "image/png": "[encoded data removed]",
      "text/plain": [
       "<Figure size 432x288 with 2 Axes>"
      ]
     },
     "metadata": {
      "needs_background": "light"
     },
     "output_type": "display_data"
    }
   ],
   "source": [
    "# Plot a confusion matrix using test sets\n",
    "plt.figure(figsize=(10,10))\n",
    "confusion_matrix = plot_confusion_matrix(logmodel, X_test, y_test,\n",
    "                                         cmap='Blues', normalize='true')\n",
    "plt.grid(False)"
   ]
  },
  {
   "cell_type": "code",
   "execution_count": 57,
   "metadata": {},
   "outputs": [
    {
     "name": "stdout",
     "output_type": "stream",
     "text": [
      "Recall score: 0.3233022636484687\n"
     ]
    },
    {
     "data": {
      "text/plain": [
       "<sklearn.metrics._plot.precision_recall_curve.PrecisionRecallDisplay at 0x7fc5a286d990>"
      ]
     },
     "execution_count": 57,
     "metadata": {},
     "output_type": "execute_result"
    },
    {
     "data": {
      "image/png": "[encoded data removed]",
      "text/plain": [
       "<Figure size 432x288 with 1 Axes>"
      ]
     },
     "metadata": {
      "needs_background": "light"
     },
     "output_type": "display_data"
    }
   ],
   "source": [
    "# Plot a precision_recall curve using test sets\n",
    "# Precision: TP / (TP+FP)\n",
    "# Recall: TP / (TP+FN)***\n",
    "\n",
    "recall_base = recall_score(y_test, y_pred_baseline)\n",
    "print(f'Recall score: {recall_base}')\n",
    "\n",
    "base_precision_recall = plot_precision_recall_curve(logmodel, X_test, y_test)\n",
    "base_precision_recall"
   ]
  },
  {
   "cell_type": "markdown",
   "metadata": {},
   "source": [
    "# 4. Modeling - B. Beat the baseline"
   ]
  },
  {
   "cell_type": "code",
   "execution_count": 58,
   "metadata": {},
   "outputs": [
    {
     "data": {
      "text/plain": [
       "0    0.77925\n",
       "1    0.22075\n",
       "Name: diabetes_mellitus, dtype: float64"
      ]
     },
     "execution_count": 58,
     "metadata": {},
     "output_type": "execute_result"
    }
   ],
   "source": [
    "# Target proportion\n",
    "y.value_counts(normalize=True)"
   ]
  },
  {
   "cell_type": "markdown",
   "metadata": {},
   "source": [
    "+ Hyperparameter adjustment: Class weight\n",
    "\n",
    "The ratio of not_diabetes_mellitus(0) vs. diabetes_mellitus(1) is 78 vs. 22 (%) Therefore, by defining the class weights as inverse of label distribution, we can penalize the wrong prediction of the minorities much higher than that of the majorities. To this end, we implement 'class_weight' hyperparameter of Logistic regression."
   ]
  },
  {
   "cell_type": "code",
   "execution_count": 59,
   "metadata": {},
   "outputs": [],
   "source": [
    "# Define class weights\n",
    "weight = {0:22, 1:78}\n",
    "\n",
    "# Fit agian with logistic regression\n",
    "logmodel2 = LogisticRegression(class_weight=weight)\n",
    "logmodel2.fit(X_train, y_train)\n",
    "y_prediction_log2 = logmodel2.predict(X_test)"
   ]
  },
  {
   "cell_type": "code",
   "execution_count": 60,
   "metadata": {},
   "outputs": [
    {
     "data": {
      "text/plain": [
       "<Figure size 720x720 with 0 Axes>"
      ]
     },
     "metadata": {},
     "output_type": "display_data"
    },
    {
     "data": {
      "image/png": "[encoded data removed]",
      "text/plain": [
       "<Figure size 432x288 with 2 Axes>"
      ]
     },
     "metadata": {
      "needs_background": "light"
     },
     "output_type": "display_data"
    }
   ],
   "source": [
    "# Plot a confusion matrix using test sets\n",
    "plt.figure(figsize=(10,10))\n",
    "confusion_matrix = plot_confusion_matrix(logmodel2, X_test, y_test,\n",
    "                                         cmap='Blues', normalize='true')\n",
    "plt.grid(False)"
   ]
  },
  {
   "cell_type": "code",
   "execution_count": 61,
   "metadata": {},
   "outputs": [
    {
     "name": "stdout",
     "output_type": "stream",
     "text": [
      "              precision    recall  f1-score   support\n",
      "\n",
      "           0       0.91      0.79      0.85     13340\n",
      "           1       0.49      0.72      0.59      3755\n",
      "\n",
      "    accuracy                           0.78     17095\n",
      "   macro avg       0.70      0.76      0.72     17095\n",
      "weighted avg       0.82      0.78      0.79     17095\n",
      "\n"
     ]
    }
   ],
   "source": [
    "print(classification_report(y_test, y_prediction_log2))"
   ]
  },
  {
   "cell_type": "code",
   "execution_count": null,
   "metadata": {},
   "outputs": [],
   "source": [
    "# Feature engineering\n"
   ]
  },
  {
   "cell_type": "code",
   "execution_count": null,
   "metadata": {},
   "outputs": [],
   "source": [
    "break"
   ]
  },
  {
   "cell_type": "code",
   "execution_count": null,
   "metadata": {},
   "outputs": [],
   "source": [
    "pred_real_test = logmodel2.predict_proba(test_new)[:,1]\n",
    "pred_real_test"
   ]
  },
  {
   "cell_type": "markdown",
   "metadata": {},
   "source": [
    "### Decision tree"
   ]
  },
  {
   "cell_type": "code",
   "execution_count": 98,
   "metadata": {},
   "outputs": [],
   "source": [
    "from sklearn.tree import DecisionTreeRegressor\n",
    "tree_reg = DecisionTreeRegressor()\n",
    "tree_reg.fit(X_train, y_train)\n",
    "y_pred_tree = tree_reg.predict(X_test)"
   ]
  },
  {
   "cell_type": "code",
   "execution_count": 99,
   "metadata": {},
   "outputs": [
    {
     "name": "stdout",
     "output_type": "stream",
     "text": [
      "              precision    recall  f1-score   support\n",
      "\n",
      "           0       0.84      0.83      0.84     13340\n",
      "           1       0.43      0.44      0.43      3755\n",
      "\n",
      "    accuracy                           0.75     17095\n",
      "   macro avg       0.63      0.64      0.63     17095\n",
      "weighted avg       0.75      0.75      0.75     17095\n",
      "\n"
     ]
    }
   ],
   "source": [
    "print(classification_report(y_test, y_pred_tree))"
   ]
  },
  {
   "cell_type": "code",
   "execution_count": 92,
   "metadata": {},
   "outputs": [],
   "source": [
    "from sklearn.ensemble import RandomForestClassifier\n",
    "\n",
    "forest = RandomForestClassifier(max_depth=10)\n",
    "forest.fit(X_train, y_train)\n",
    "y_pred_forest = tree_reg.predict(X_test)"
   ]
  },
  {
   "cell_type": "code",
   "execution_count": 93,
   "metadata": {},
   "outputs": [
    {
     "name": "stdout",
     "output_type": "stream",
     "text": [
      "              precision    recall  f1-score   support\n",
      "\n",
      "           0       0.84      0.83      0.84     13340\n",
      "           1       0.42      0.44      0.43      3755\n",
      "\n",
      "    accuracy                           0.74     17095\n",
      "   macro avg       0.63      0.63      0.63     17095\n",
      "weighted avg       0.75      0.74      0.75     17095\n",
      "\n"
     ]
    }
   ],
   "source": [
    "print(classification_report(y_test, y_pred_forest))"
   ]
  },
  {
   "cell_type": "markdown",
   "metadata": {},
   "source": [
    "# 6. Submission"
   ]
  },
  {
   "cell_type": "code",
   "execution_count": null,
   "metadata": {},
   "outputs": [],
   "source": [
    "template = pd.read_csv(\"../submissions/SolutionTemplateWiDS2021.csv\")\n",
    "template.head()"
   ]
  },
  {
   "cell_type": "code",
   "execution_count": null,
   "metadata": {},
   "outputs": [],
   "source": [
    "template['diabetes_mellitus'] = pd.Series(pred_real_test)\n",
    "template.head()"
   ]
  },
  {
   "cell_type": "code",
   "execution_count": null,
   "metadata": {},
   "outputs": [],
   "source": [
    "template.isnull().sum()"
   ]
  },
  {
   "cell_type": "code",
   "execution_count": null,
   "metadata": {},
   "outputs": [],
   "source": [
    "#Convert DataFrame to a csv file that can be uploaded\n",
    "#This is saved in the same directory as your notebook\n",
    "filename = 'Diabetes Mellitus Predictions 1.csv'\n",
    "\n",
    "template.to_csv(f'../submissions/{filename}', index=False)\n",
    "\n",
    "print('Saved file: ' + filename)"
   ]
  }
 ],
 "metadata": {
  "kernelspec": {
   "display_name": "Python 3",
   "language": "python",
   "name": "python3"
  },
  "language_info": {
   "codemirror_mode": {
    "name": "ipython",
    "version": 3
   },
   "file_extension": ".py",
   "mimetype": "text/x-python",
   "name": "python",
   "nbconvert_exporter": "python",
   "pygments_lexer": "ipython3",
   "version": "3.7.6"
  }
 },
 "nbformat": 4,
 "nbformat_minor": 4
}
